{
 "cells": [
  {
   "cell_type": "markdown",
   "metadata": {},
   "source": [
    "# SCOPE-DTI Running Demo | [Paper]() | [Repo](https://github.com/Yigang-Chen/SCOPE-DTI)"
   ]
  },
  {
   "cell_type": "markdown",
   "metadata": {},
   "source": [
    "## Import required modules."
   ]
  },
  {
   "cell_type": "code",
   "execution_count": 1,
   "metadata": {},
   "outputs": [
    {
     "name": "stderr",
     "output_type": "stream",
     "text": [
      "/data/home/chenyigang/micromamba/envs/scope/lib/python3.9/site-packages/tqdm/auto.py:21: TqdmWarning: IProgress not found. Please update jupyter and ipywidgets. See https://ipywidgets.readthedocs.io/en/stable/user_install.html\n",
      "  from .autonotebook import tqdm as notebook_tqdm\n"
     ]
    }
   ],
   "source": [
    "from configs import get_cfg_defaults\n",
    "import os\n",
    "import sys\n",
    "from time import time\n",
    "from utils import set_seed, graph_collate_func, mkdir, print_with_time\n",
    "from models import Scope\n",
    "from trainer import Trainer\n",
    "import torch\n",
    "import warnings\n",
    "import pandas as pd\n",
    "import numpy as np\n",
    "from dataloader import DTIDataset, ConditionalInitiableDataset\n",
    "from torch.utils.data import DataLoader\n",
    "import pickle as pkl"
   ]
  },
  {
   "cell_type": "markdown",
   "metadata": {},
   "source": [
    "## Configuration\n",
    "\n",
    "The customized configuration used in this demo is stored in `configs/default.yaml`, this file overwrites defaults in `config.py` where a value is specified."
   ]
  },
  {
   "cell_type": "code",
   "execution_count": 2,
   "metadata": {},
   "outputs": [
    {
     "name": "stdout",
     "output_type": "stream",
     "text": [
      "[2025-03-06 03:08:22] Config yaml: config_yaml/default.yaml\n",
      "[2025-03-06 03:08:22] Hyperparameters:\n",
      "[2025-03-06 03:08:22] {'DRUG': CfgNode({'ATOM_IN_DIM': [74, 1], 'ATOM_HIDDEN_DIM': [320, 64], 'EDGE_IN_DIM': [16, 1], 'EDGE_HIDDEN_DIM': [32, 1], 'NUM_LAYERS': 3, 'DROP_RATE': 0.1, 'MAX_NODES': 300, 'EDGE_CUTOFF': 4.5, 'NUM_RDF': 16}), 'PROTEIN': CfgNode({'EMBEDDING_DIM': 320, 'PADDING': True, 'MAX_LENGTH': 2000, 'GRAPH': CfgNode({'COORD_PATH': 'data/demo_unip_cords.pkl', 'PATH': 'data/protein_graph.pkl', 'EDGE_CUTOFF': 10, 'NUM_KNN': 5, 'NUM_LAYER': 4, 'FC_BIAS': True})}), 'SOLVER': CfgNode({'MAX_EPOCH': 70, 'BATCH_SIZE': 16, 'NUM_WORKERS': 16, 'LR': 5e-05, 'SEED': 3076}), 'RESULT': CfgNode({'OUTPUT_DIR': './result_noname', 'SAVE_MODEL': True}), 'DECODER': CfgNode({'NAME': 'MLP', 'IN_DIM': 256, 'HIDDEN_DIM': 128, 'OUT_DIM': 64, 'BINARY': 1}), 'BCN': CfgNode({'HEADS': 2}), 'DATA': CfgNode({'TRAIN': 'data/demo_data/train.parquet', 'VAL': 'data/demo_data/val.parquet', 'TEST': 'data/demo_data/test.parquet'})}\n",
      "[2025-03-06 03:08:22] Running on: cuda\n"
     ]
    }
   ],
   "source": [
    "s = time()   # Start time\n",
    "\n",
    "cfg = get_cfg_defaults()\n",
    "\n",
    "cfg_path = \"config_yaml/default.yaml\"\n",
    "\n",
    "assert os.path.exists(cfg_path), f\"Config file {cfg_path} does not exist\"\n",
    "\n",
    "cfg.merge_from_file(cfg_path)\n",
    "\n",
    "cfg.freeze()\n",
    "mkdir(cfg.RESULT.OUTPUT_DIR)\n",
    "# experiment = None\n",
    "print_with_time(f\"Config yaml: {cfg_path}\")\n",
    "print_with_time(f\"Hyperparameters:\")\n",
    "print_with_time(dict(cfg))\n",
    "set_seed(cfg.SOLVER.SEED)\n",
    "device = torch.device('cuda' if torch.cuda.is_available() else 'cpu')\n",
    "\n",
    "print_with_time(f\"Running on: {device}\")\n",
    "torch.cuda.empty_cache()\n",
    "warnings.filterwarnings(\"ignore\")"
   ]
  },
  {
   "cell_type": "markdown",
   "metadata": {},
   "source": [
    "## Dataset\n",
    "\n",
    "We randomly selected 10 proteins along with their interaction data from the SCOPE Total dataset, utilizing a semi-inductive split strategy."
   ]
  },
  {
   "cell_type": "code",
   "execution_count": 3,
   "metadata": {},
   "outputs": [
    {
     "name": "stdout",
     "output_type": "stream",
     "text": [
      "[2025-03-06 03:08:22] Loaded data\n",
      "[2025-03-06 03:08:22] Recieved data, length: 2602\n",
      "[2025-03-06 03:08:22] Loaded data, length: 2602\n",
      "[2025-03-06 03:08:22] Recieved data, length: 363\n",
      "[2025-03-06 03:08:22] Loaded data, length: 363\n",
      "[2025-03-06 03:08:22] Recieved data, length: 725\n",
      "[2025-03-06 03:08:22] Loaded data, length: 725\n"
     ]
    }
   ],
   "source": [
    "df_train = pd.read_parquet(cfg.DATA.TRAIN)\n",
    "df_val = pd.read_parquet(cfg.DATA.VAL)\n",
    "df_test = pd.read_parquet(cfg.DATA.TEST)\n",
    "\n",
    "print_with_time(\"Loaded data\")\n",
    "\n",
    "dataset = ConditionalInitiableDataset(**cfg)\n",
    "\n",
    "train_dataset = DTIDataset(df_train.index.values, df_train, father=dataset)\n",
    "val_dataset = DTIDataset(df_val.index.values, df_val, father=dataset)\n",
    "test_dataset = DTIDataset(df_test.index.values, df_test, father=dataset)\n"
   ]
  },
  {
   "cell_type": "markdown",
   "metadata": {},
   "source": [
    "# Protein Graph Preprocessing\n",
    "\n",
    "We first perform protein graph preprocessing. The protein coordinate data from the SCOPE dataset is stored in the `data` directory. To streamline the demo process, ​only 10 proteins​ are encoded using the file `data/demo_unip_cords.pkl`. For large-scale predictions, modify the configuration variable `_C.PROTEIN.GRAPH.COORD_PATH` in your config file. Running this encoding step generates protein graph files, which will be reused automatically if detected in subsequent runs to avoid redundant processing.\n"
   ]
  },
  {
   "cell_type": "code",
   "execution_count": 4,
   "metadata": {},
   "outputs": [
    {
     "name": "stdout",
     "output_type": "stream",
     "text": [
      "[2025-03-06 03:08:22] Preprocessing protein data\n",
      "[2025-03-06 03:08:22] Protein graph data already exists\n"
     ]
    }
   ],
   "source": [
    "dataset._preprocessing()"
   ]
  },
  {
   "cell_type": "markdown",
   "metadata": {},
   "source": [
    "# Dataloader and Model setup\n",
    "\n",
    "Here, we load the data using the `DataLoader()` function. Then, we use the previously defined configuration to set up the model and optimizer we will subsequently train."
   ]
  },
  {
   "cell_type": "code",
   "execution_count": 5,
   "metadata": {},
   "outputs": [
    {
     "name": "stdout",
     "output_type": "stream",
     "text": [
      "[2025-03-06 03:08:23] Directory for saving result: ./result_noname\n"
     ]
    }
   ],
   "source": [
    "params = {'batch_size': cfg.SOLVER.BATCH_SIZE, 'shuffle': True, \n",
    "          'num_workers': cfg.SOLVER.NUM_WORKERS, 'drop_last': True, \n",
    "          'collate_fn': graph_collate_func, 'pin_memory': True}\n",
    "training_generator = DataLoader(train_dataset, **params)\n",
    "params['shuffle'] = False\n",
    "params['drop_last'] = False\n",
    "val_generator = DataLoader(val_dataset, **params)\n",
    "test_generator = DataLoader(test_dataset, **params)\n",
    "\n",
    "model = Scope(**cfg).to(device)\n",
    "with open(os.path.join(cfg.RESULT.OUTPUT_DIR, \"model_architecture.txt\"), \"w\") as wf:\n",
    "    wf.write(str(model))\n",
    "print_with_time(f\"Directory for saving result: {cfg.RESULT.OUTPUT_DIR}\")"
   ]
  },
  {
   "cell_type": "markdown",
   "metadata": {},
   "source": [
    "## Model Training and Test Optimized Model\n",
    "\n",
    "Optimize model parameters using the trainer and check test performance."
   ]
  },
  {
   "cell_type": "code",
   "execution_count": 6,
   "metadata": {},
   "outputs": [
    {
     "name": "stderr",
     "output_type": "stream",
     "text": [
      "100%|██████████| 162/162 [00:21<00:00,  7.41it/s]"
     ]
    },
    {
     "name": "stdout",
     "output_type": "stream",
     "text": [
      "[2025-03-06 03:08:45] Training at Epoch 1 with training loss 0.6993224723839465\n"
     ]
    },
    {
     "name": "stderr",
     "output_type": "stream",
     "text": [
      "\n"
     ]
    },
    {
     "name": "stdout",
     "output_type": "stream",
     "text": [
      "[2025-03-06 03:08:48] Validation at Epoch 1 with validation loss 0.8176725299462028  AUROC 0.5808206686930091 AUPRC 0.5400206853596703\n"
     ]
    },
    {
     "name": "stderr",
     "output_type": "stream",
     "text": [
      "100%|██████████| 162/162 [00:18<00:00,  8.82it/s]"
     ]
    },
    {
     "name": "stdout",
     "output_type": "stream",
     "text": [
      "[2025-03-06 03:09:06] Training at Epoch 2 with training loss 0.6801543077568949\n"
     ]
    },
    {
     "name": "stderr",
     "output_type": "stream",
     "text": [
      "\n"
     ]
    },
    {
     "name": "stdout",
     "output_type": "stream",
     "text": [
      "[2025-03-06 03:09:09] Validation at Epoch 2 with validation loss 0.9512324359105981  AUROC 0.6832826747720366 AUPRC 0.6914262798747827\n"
     ]
    },
    {
     "name": "stderr",
     "output_type": "stream",
     "text": [
      "100%|██████████| 162/162 [00:18<00:00,  8.68it/s]"
     ]
    },
    {
     "name": "stdout",
     "output_type": "stream",
     "text": [
      "[2025-03-06 03:09:27] Training at Epoch 3 with training loss 0.659032244005321\n"
     ]
    },
    {
     "name": "stderr",
     "output_type": "stream",
     "text": [
      "\n"
     ]
    },
    {
     "name": "stdout",
     "output_type": "stream",
     "text": [
      "[2025-03-06 03:09:30] Validation at Epoch 3 with validation loss 0.689263649608778  AUROC 0.6121580547112462 AUPRC 0.6145775268194416\n"
     ]
    },
    {
     "name": "stderr",
     "output_type": "stream",
     "text": [
      "100%|██████████| 162/162 [00:18<00:00,  8.70it/s]"
     ]
    },
    {
     "name": "stdout",
     "output_type": "stream",
     "text": [
      "[2025-03-06 03:09:49] Training at Epoch 4 with training loss 0.6601234359873666\n"
     ]
    },
    {
     "name": "stderr",
     "output_type": "stream",
     "text": [
      "\n"
     ]
    },
    {
     "name": "stdout",
     "output_type": "stream",
     "text": [
      "[2025-03-06 03:09:52] Validation at Epoch 4 with validation loss 1.4425050020217896  AUROC 0.6379027355623099 AUPRC 0.6331013454894194\n"
     ]
    },
    {
     "name": "stderr",
     "output_type": "stream",
     "text": [
      "100%|██████████| 162/162 [00:16<00:00,  9.98it/s]"
     ]
    },
    {
     "name": "stdout",
     "output_type": "stream",
     "text": [
      "[2025-03-06 03:10:08] Training at Epoch 5 with training loss 0.6408647773442445\n"
     ]
    },
    {
     "name": "stderr",
     "output_type": "stream",
     "text": [
      "\n"
     ]
    },
    {
     "name": "stdout",
     "output_type": "stream",
     "text": [
      "[2025-03-06 03:10:11] Validation at Epoch 5 with validation loss 0.9978141344111898  AUROC 0.6864741641337385 AUPRC 0.684794124281961\n"
     ]
    },
    {
     "name": "stderr",
     "output_type": "stream",
     "text": [
      "100%|██████████| 162/162 [00:18<00:00,  8.60it/s]"
     ]
    },
    {
     "name": "stdout",
     "output_type": "stream",
     "text": [
      "[2025-03-06 03:10:29] Training at Epoch 6 with training loss 0.6401781881297076\n"
     ]
    },
    {
     "name": "stderr",
     "output_type": "stream",
     "text": [
      "\n"
     ]
    },
    {
     "name": "stdout",
     "output_type": "stream",
     "text": [
      "[2025-03-06 03:10:32] Validation at Epoch 6 with validation loss 0.9223634289658588  AUROC 0.7255927051671731 AUPRC 0.7187702528141027\n"
     ]
    },
    {
     "name": "stderr",
     "output_type": "stream",
     "text": [
      "100%|██████████| 162/162 [00:18<00:00,  8.71it/s]"
     ]
    },
    {
     "name": "stdout",
     "output_type": "stream",
     "text": [
      "[2025-03-06 03:10:51] Training at Epoch 7 with training loss 0.6265561181454011\n"
     ]
    },
    {
     "name": "stderr",
     "output_type": "stream",
     "text": [
      "\n"
     ]
    },
    {
     "name": "stdout",
     "output_type": "stream",
     "text": [
      "[2025-03-06 03:10:54] Validation at Epoch 7 with validation loss 0.9205301300339077  AUROC 0.7330699088145897 AUPRC 0.6830835979906792\n"
     ]
    },
    {
     "name": "stderr",
     "output_type": "stream",
     "text": [
      "100%|██████████| 162/162 [00:16<00:00,  9.83it/s]"
     ]
    },
    {
     "name": "stdout",
     "output_type": "stream",
     "text": [
      "[2025-03-06 03:11:10] Training at Epoch 8 with training loss 0.6275229119224313\n"
     ]
    },
    {
     "name": "stderr",
     "output_type": "stream",
     "text": [
      "\n"
     ]
    },
    {
     "name": "stdout",
     "output_type": "stream",
     "text": [
      "[2025-03-06 03:11:13] Validation at Epoch 8 with validation loss 0.9934191068877345  AUROC 0.7604559270516718 AUPRC 0.7330761447536378\n"
     ]
    },
    {
     "name": "stderr",
     "output_type": "stream",
     "text": [
      "100%|██████████| 162/162 [00:18<00:00,  8.74it/s]"
     ]
    },
    {
     "name": "stdout",
     "output_type": "stream",
     "text": [
      "[2025-03-06 03:11:32] Training at Epoch 9 with training loss 0.6073872654894252\n"
     ]
    },
    {
     "name": "stderr",
     "output_type": "stream",
     "text": [
      "\n"
     ]
    },
    {
     "name": "stdout",
     "output_type": "stream",
     "text": [
      "[2025-03-06 03:11:34] Validation at Epoch 9 with validation loss 0.9536914579246355  AUROC 0.7395896656534952 AUPRC 0.7186868856224862\n"
     ]
    },
    {
     "name": "stderr",
     "output_type": "stream",
     "text": [
      "100%|██████████| 162/162 [00:18<00:00,  8.67it/s]"
     ]
    },
    {
     "name": "stdout",
     "output_type": "stream",
     "text": [
      "[2025-03-06 03:11:53] Training at Epoch 10 with training loss 0.5920337057775922\n"
     ]
    },
    {
     "name": "stderr",
     "output_type": "stream",
     "text": [
      "\n"
     ]
    },
    {
     "name": "stdout",
     "output_type": "stream",
     "text": [
      "[2025-03-06 03:11:56] Validation at Epoch 10 with validation loss 1.2170491399972334  AUROC 0.7604863221884498 AUPRC 0.7749258311179897\n"
     ]
    },
    {
     "name": "stderr",
     "output_type": "stream",
     "text": [
      "100%|██████████| 162/162 [00:18<00:00,  8.88it/s]"
     ]
    },
    {
     "name": "stdout",
     "output_type": "stream",
     "text": [
      "[2025-03-06 03:12:14] Training at Epoch 11 with training loss 0.5934952228893469\n"
     ]
    },
    {
     "name": "stderr",
     "output_type": "stream",
     "text": [
      "\n"
     ]
    },
    {
     "name": "stdout",
     "output_type": "stream",
     "text": [
      "[2025-03-06 03:12:17] Validation at Epoch 11 with validation loss 1.1458299082258474  AUROC 0.7694224924012157 AUPRC 0.7568943625045834\n"
     ]
    },
    {
     "name": "stderr",
     "output_type": "stream",
     "text": [
      "100%|██████████| 162/162 [00:18<00:00,  8.65it/s]"
     ]
    },
    {
     "name": "stdout",
     "output_type": "stream",
     "text": [
      "[2025-03-06 03:12:36] Training at Epoch 12 with training loss 0.5802916569842232\n"
     ]
    },
    {
     "name": "stderr",
     "output_type": "stream",
     "text": [
      "\n"
     ]
    },
    {
     "name": "stdout",
     "output_type": "stream",
     "text": [
      "[2025-03-06 03:12:39] Validation at Epoch 12 with validation loss 0.6194262375002322  AUROC 0.7561398176291794 AUPRC 0.7231915888625622\n"
     ]
    },
    {
     "name": "stderr",
     "output_type": "stream",
     "text": [
      "100%|██████████| 162/162 [00:17<00:00,  9.38it/s]"
     ]
    },
    {
     "name": "stdout",
     "output_type": "stream",
     "text": [
      "[2025-03-06 03:12:56] Training at Epoch 13 with training loss 0.5829221541866844\n"
     ]
    },
    {
     "name": "stderr",
     "output_type": "stream",
     "text": [
      "\n"
     ]
    },
    {
     "name": "stdout",
     "output_type": "stream",
     "text": [
      "[2025-03-06 03:12:59] Validation at Epoch 13 with validation loss 0.9497390933658766  AUROC 0.7158662613981763 AUPRC 0.710909705212569\n"
     ]
    },
    {
     "name": "stderr",
     "output_type": "stream",
     "text": [
      "100%|██████████| 162/162 [00:16<00:00,  9.86it/s]"
     ]
    },
    {
     "name": "stdout",
     "output_type": "stream",
     "text": [
      "[2025-03-06 03:13:15] Training at Epoch 14 with training loss 0.5678225580924823\n"
     ]
    },
    {
     "name": "stderr",
     "output_type": "stream",
     "text": [
      "\n"
     ]
    },
    {
     "name": "stdout",
     "output_type": "stream",
     "text": [
      "[2025-03-06 03:13:18] Validation at Epoch 14 with validation loss 0.8711736254070116  AUROC 0.7846808510638298 AUPRC 0.7999360330863272\n"
     ]
    },
    {
     "name": "stderr",
     "output_type": "stream",
     "text": [
      "100%|██████████| 162/162 [00:18<00:00,  8.78it/s]"
     ]
    },
    {
     "name": "stdout",
     "output_type": "stream",
     "text": [
      "[2025-03-06 03:13:36] Training at Epoch 15 with training loss 0.5761223823567967\n"
     ]
    },
    {
     "name": "stderr",
     "output_type": "stream",
     "text": [
      "\n"
     ]
    },
    {
     "name": "stdout",
     "output_type": "stream",
     "text": [
      "[2025-03-06 03:13:39] Validation at Epoch 15 with validation loss 0.6033024010450944  AUROC 0.7763525835866261 AUPRC 0.7850936562776689\n"
     ]
    },
    {
     "name": "stderr",
     "output_type": "stream",
     "text": [
      "100%|██████████| 162/162 [00:18<00:00,  8.79it/s]"
     ]
    },
    {
     "name": "stdout",
     "output_type": "stream",
     "text": [
      "[2025-03-06 03:13:57] Training at Epoch 16 with training loss 0.5767541943508901\n"
     ]
    },
    {
     "name": "stderr",
     "output_type": "stream",
     "text": [
      "\n"
     ]
    },
    {
     "name": "stdout",
     "output_type": "stream",
     "text": [
      "[2025-03-06 03:14:00] Validation at Epoch 16 with validation loss 0.6839590344739996  AUROC 0.7812158054711246 AUPRC 0.7505239348389348\n"
     ]
    },
    {
     "name": "stderr",
     "output_type": "stream",
     "text": [
      "100%|██████████| 162/162 [00:18<00:00,  8.87it/s]"
     ]
    },
    {
     "name": "stdout",
     "output_type": "stream",
     "text": [
      "[2025-03-06 03:14:18] Training at Epoch 17 with training loss 0.5604005018134176\n"
     ]
    },
    {
     "name": "stderr",
     "output_type": "stream",
     "text": [
      "\n"
     ]
    },
    {
     "name": "stdout",
     "output_type": "stream",
     "text": [
      "[2025-03-06 03:14:21] Validation at Epoch 17 with validation loss 0.6881351432074672  AUROC 0.7975987841945288 AUPRC 0.7977262339586184\n"
     ]
    },
    {
     "name": "stderr",
     "output_type": "stream",
     "text": [
      "100%|██████████| 162/162 [00:18<00:00,  8.83it/s]"
     ]
    },
    {
     "name": "stdout",
     "output_type": "stream",
     "text": [
      "[2025-03-06 03:14:40] Training at Epoch 18 with training loss 0.5625953896914\n"
     ]
    },
    {
     "name": "stderr",
     "output_type": "stream",
     "text": [
      "\n"
     ]
    },
    {
     "name": "stdout",
     "output_type": "stream",
     "text": [
      "[2025-03-06 03:14:42] Validation at Epoch 18 with validation loss 0.8220638853052388  AUROC 0.809726443768997 AUPRC 0.7951359639843298\n"
     ]
    },
    {
     "name": "stderr",
     "output_type": "stream",
     "text": [
      "100%|██████████| 162/162 [00:18<00:00,  8.84it/s]"
     ]
    },
    {
     "name": "stdout",
     "output_type": "stream",
     "text": [
      "[2025-03-06 03:15:01] Training at Epoch 19 with training loss 0.5575270356587422\n"
     ]
    },
    {
     "name": "stderr",
     "output_type": "stream",
     "text": [
      "\n"
     ]
    },
    {
     "name": "stdout",
     "output_type": "stream",
     "text": [
      "[2025-03-06 03:15:04] Validation at Epoch 19 with validation loss 0.8607499845649885  AUROC 0.8233130699088146 AUPRC 0.8257536441860089\n"
     ]
    },
    {
     "name": "stderr",
     "output_type": "stream",
     "text": [
      "100%|██████████| 162/162 [00:18<00:00,  8.90it/s]"
     ]
    },
    {
     "name": "stdout",
     "output_type": "stream",
     "text": [
      "[2025-03-06 03:15:22] Training at Epoch 20 with training loss 0.5500632230146432\n"
     ]
    },
    {
     "name": "stderr",
     "output_type": "stream",
     "text": [
      "\n"
     ]
    },
    {
     "name": "stdout",
     "output_type": "stream",
     "text": [
      "[2025-03-06 03:15:25] Validation at Epoch 20 with validation loss 1.1722051112548164  AUROC 0.7648632218844985 AUPRC 0.776607968810596\n"
     ]
    },
    {
     "name": "stderr",
     "output_type": "stream",
     "text": [
      "100%|██████████| 162/162 [00:18<00:00,  8.89it/s]"
     ]
    },
    {
     "name": "stdout",
     "output_type": "stream",
     "text": [
      "[2025-03-06 03:15:43] Training at Epoch 21 with training loss 0.5470169845186634\n"
     ]
    },
    {
     "name": "stderr",
     "output_type": "stream",
     "text": [
      "\n"
     ]
    },
    {
     "name": "stdout",
     "output_type": "stream",
     "text": [
      "[2025-03-06 03:15:49] Validation at Epoch 21 with validation loss 0.58758461345797  AUROC 0.8013981762917932 AUPRC 0.7925873627891988\n"
     ]
    },
    {
     "name": "stderr",
     "output_type": "stream",
     "text": [
      "100%|██████████| 162/162 [00:18<00:00,  8.99it/s]"
     ]
    },
    {
     "name": "stdout",
     "output_type": "stream",
     "text": [
      "[2025-03-06 03:16:07] Training at Epoch 22 with training loss 0.55533983990734\n"
     ]
    },
    {
     "name": "stderr",
     "output_type": "stream",
     "text": [
      "\n"
     ]
    },
    {
     "name": "stdout",
     "output_type": "stream",
     "text": [
      "[2025-03-06 03:16:09] Validation at Epoch 22 with validation loss 0.8415338409983594  AUROC 0.8142553191489362 AUPRC 0.7575269636076046\n"
     ]
    },
    {
     "name": "stderr",
     "output_type": "stream",
     "text": [
      "100%|██████████| 162/162 [00:18<00:00,  8.73it/s]"
     ]
    },
    {
     "name": "stdout",
     "output_type": "stream",
     "text": [
      "[2025-03-06 03:16:28] Training at Epoch 23 with training loss 0.5482134734406884\n"
     ]
    },
    {
     "name": "stderr",
     "output_type": "stream",
     "text": [
      "\n"
     ]
    },
    {
     "name": "stdout",
     "output_type": "stream",
     "text": [
      "[2025-03-06 03:16:31] Validation at Epoch 23 with validation loss 0.6145528554916382  AUROC 0.7989969604863223 AUPRC 0.7960964482568041\n"
     ]
    },
    {
     "name": "stderr",
     "output_type": "stream",
     "text": [
      "100%|██████████| 162/162 [00:18<00:00,  8.68it/s]"
     ]
    },
    {
     "name": "stdout",
     "output_type": "stream",
     "text": [
      "[2025-03-06 03:16:49] Training at Epoch 24 with training loss 0.5326790821589069\n"
     ]
    },
    {
     "name": "stderr",
     "output_type": "stream",
     "text": [
      "\n"
     ]
    },
    {
     "name": "stdout",
     "output_type": "stream",
     "text": [
      "[2025-03-06 03:16:52] Validation at Epoch 24 with validation loss 1.1313492681669153  AUROC 0.8124468085106383 AUPRC 0.7899197619746108\n"
     ]
    },
    {
     "name": "stderr",
     "output_type": "stream",
     "text": [
      "100%|██████████| 162/162 [00:18<00:00,  8.76it/s]\n"
     ]
    },
    {
     "name": "stdout",
     "output_type": "stream",
     "text": [
      "[2025-03-06 03:17:11] Training at Epoch 25 with training loss 0.5380305421573145\n",
      "[2025-03-06 03:17:14] Validation at Epoch 25 with validation loss 0.8393690819325654  AUROC 0.8391033434650456 AUPRC 0.8367402666864543\n"
     ]
    },
    {
     "name": "stderr",
     "output_type": "stream",
     "text": [
      "100%|██████████| 162/162 [00:18<00:00,  8.91it/s]"
     ]
    },
    {
     "name": "stdout",
     "output_type": "stream",
     "text": [
      "[2025-03-06 03:17:32] Training at Epoch 26 with training loss 0.5236411405566298\n"
     ]
    },
    {
     "name": "stderr",
     "output_type": "stream",
     "text": [
      "\n"
     ]
    },
    {
     "name": "stdout",
     "output_type": "stream",
     "text": [
      "[2025-03-06 03:17:35] Validation at Epoch 26 with validation loss 1.0776632091273433  AUROC 0.81951367781155 AUPRC 0.7951644868707995\n"
     ]
    },
    {
     "name": "stderr",
     "output_type": "stream",
     "text": [
      "100%|██████████| 162/162 [00:18<00:00,  8.70it/s]"
     ]
    },
    {
     "name": "stdout",
     "output_type": "stream",
     "text": [
      "[2025-03-06 03:17:53] Training at Epoch 27 with training loss 0.5250957622940158\n"
     ]
    },
    {
     "name": "stderr",
     "output_type": "stream",
     "text": [
      "\n"
     ]
    },
    {
     "name": "stdout",
     "output_type": "stream",
     "text": [
      "[2025-03-06 03:17:56] Validation at Epoch 27 with validation loss 0.8571863304013791  AUROC 0.8185106382978724 AUPRC 0.7868303040718344\n"
     ]
    },
    {
     "name": "stderr",
     "output_type": "stream",
     "text": [
      "100%|██████████| 162/162 [00:18<00:00,  8.72it/s]"
     ]
    },
    {
     "name": "stdout",
     "output_type": "stream",
     "text": [
      "[2025-03-06 03:18:15] Training at Epoch 28 with training loss 0.5255937381291095\n"
     ]
    },
    {
     "name": "stderr",
     "output_type": "stream",
     "text": [
      "\n"
     ]
    },
    {
     "name": "stdout",
     "output_type": "stream",
     "text": [
      "[2025-03-06 03:18:17] Validation at Epoch 28 with validation loss 2.400885970696159  AUROC 0.7867781155015197 AUPRC 0.735794281103886\n"
     ]
    },
    {
     "name": "stderr",
     "output_type": "stream",
     "text": [
      "100%|██████████| 162/162 [00:18<00:00,  8.81it/s]"
     ]
    },
    {
     "name": "stdout",
     "output_type": "stream",
     "text": [
      "[2025-03-06 03:18:36] Training at Epoch 29 with training loss 0.5309506588511996\n"
     ]
    },
    {
     "name": "stderr",
     "output_type": "stream",
     "text": [
      "\n"
     ]
    },
    {
     "name": "stdout",
     "output_type": "stream",
     "text": [
      "[2025-03-06 03:18:39] Validation at Epoch 29 with validation loss 1.3789091343465059  AUROC 0.8063981762917933 AUPRC 0.8050617487610203\n"
     ]
    },
    {
     "name": "stderr",
     "output_type": "stream",
     "text": [
      "100%|██████████| 162/162 [00:16<00:00,  9.53it/s]"
     ]
    },
    {
     "name": "stdout",
     "output_type": "stream",
     "text": [
      "[2025-03-06 03:18:56] Training at Epoch 30 with training loss 0.5294870544730881\n"
     ]
    },
    {
     "name": "stderr",
     "output_type": "stream",
     "text": [
      "\n"
     ]
    },
    {
     "name": "stdout",
     "output_type": "stream",
     "text": [
      "[2025-03-06 03:18:58] Validation at Epoch 30 with validation loss 0.8409956382668536  AUROC 0.7676899696048631 AUPRC 0.7592969519212901\n"
     ]
    },
    {
     "name": "stderr",
     "output_type": "stream",
     "text": [
      "100%|██████████| 162/162 [00:18<00:00,  8.76it/s]\n"
     ]
    },
    {
     "name": "stdout",
     "output_type": "stream",
     "text": [
      "[2025-03-06 03:19:17] Training at Epoch 31 with training loss 0.5214418314489317\n",
      "[2025-03-06 03:19:20] Validation at Epoch 31 with validation loss 1.8557073694208395  AUROC 0.8182370820668694 AUPRC 0.8019063570097075\n"
     ]
    },
    {
     "name": "stderr",
     "output_type": "stream",
     "text": [
      "100%|██████████| 162/162 [00:18<00:00,  8.81it/s]"
     ]
    },
    {
     "name": "stdout",
     "output_type": "stream",
     "text": [
      "[2025-03-06 03:19:38] Training at Epoch 32 with training loss 0.5186235499970707\n"
     ]
    },
    {
     "name": "stderr",
     "output_type": "stream",
     "text": [
      "\n"
     ]
    },
    {
     "name": "stdout",
     "output_type": "stream",
     "text": [
      "[2025-03-06 03:19:41] Validation at Epoch 32 with validation loss 0.8039252252682395  AUROC 0.8144072948328267 AUPRC 0.7648316387270818\n"
     ]
    },
    {
     "name": "stderr",
     "output_type": "stream",
     "text": [
      "100%|██████████| 162/162 [00:18<00:00,  8.79it/s]\n"
     ]
    },
    {
     "name": "stdout",
     "output_type": "stream",
     "text": [
      "[2025-03-06 03:19:59] Training at Epoch 33 with training loss 0.5163306212167681\n",
      "[2025-03-06 03:20:02] Validation at Epoch 33 with validation loss 0.9727175715176956  AUROC 0.829240121580547 AUPRC 0.8054345280233997\n"
     ]
    },
    {
     "name": "stderr",
     "output_type": "stream",
     "text": [
      "100%|██████████| 162/162 [00:18<00:00,  8.77it/s]"
     ]
    },
    {
     "name": "stdout",
     "output_type": "stream",
     "text": [
      "[2025-03-06 03:20:20] Training at Epoch 34 with training loss 0.5090508698313324\n"
     ]
    },
    {
     "name": "stderr",
     "output_type": "stream",
     "text": [
      "\n"
     ]
    },
    {
     "name": "stdout",
     "output_type": "stream",
     "text": [
      "[2025-03-06 03:20:23] Validation at Epoch 34 with validation loss 0.871219550785811  AUROC 0.7947720364741642 AUPRC 0.7893323560803192\n"
     ]
    },
    {
     "name": "stderr",
     "output_type": "stream",
     "text": [
      "100%|██████████| 162/162 [00:18<00:00,  8.93it/s]"
     ]
    },
    {
     "name": "stdout",
     "output_type": "stream",
     "text": [
      "[2025-03-06 03:20:41] Training at Epoch 35 with training loss 0.500251571153417\n"
     ]
    },
    {
     "name": "stderr",
     "output_type": "stream",
     "text": [
      "\n"
     ]
    },
    {
     "name": "stdout",
     "output_type": "stream",
     "text": [
      "[2025-03-06 03:20:44] Validation at Epoch 35 with validation loss 2.593336118304211  AUROC 0.7752279635258359 AUPRC 0.7472065635531385\n"
     ]
    },
    {
     "name": "stderr",
     "output_type": "stream",
     "text": [
      "100%|██████████| 162/162 [00:18<00:00,  8.87it/s]"
     ]
    },
    {
     "name": "stdout",
     "output_type": "stream",
     "text": [
      "[2025-03-06 03:21:02] Training at Epoch 36 with training loss 0.5162730575711639\n"
     ]
    },
    {
     "name": "stderr",
     "output_type": "stream",
     "text": [
      "\n"
     ]
    },
    {
     "name": "stdout",
     "output_type": "stream",
     "text": [
      "[2025-03-06 03:21:05] Validation at Epoch 36 with validation loss 1.429476981577666  AUROC 0.8175227963525836 AUPRC 0.7894867211967738\n"
     ]
    },
    {
     "name": "stderr",
     "output_type": "stream",
     "text": [
      "100%|██████████| 162/162 [00:17<00:00,  9.27it/s]"
     ]
    },
    {
     "name": "stdout",
     "output_type": "stream",
     "text": [
      "[2025-03-06 03:21:22] Training at Epoch 37 with training loss 0.5044700962341861\n"
     ]
    },
    {
     "name": "stderr",
     "output_type": "stream",
     "text": [
      "\n"
     ]
    },
    {
     "name": "stdout",
     "output_type": "stream",
     "text": [
      "[2025-03-06 03:21:25] Validation at Epoch 37 with validation loss 1.0283655278060748  AUROC 0.8433130699088146 AUPRC 0.8336523021231356\n"
     ]
    },
    {
     "name": "stderr",
     "output_type": "stream",
     "text": [
      "100%|██████████| 162/162 [00:18<00:00,  8.88it/s]"
     ]
    },
    {
     "name": "stdout",
     "output_type": "stream",
     "text": [
      "[2025-03-06 03:21:43] Training at Epoch 38 with training loss 0.5008198433084252\n"
     ]
    },
    {
     "name": "stderr",
     "output_type": "stream",
     "text": [
      "\n"
     ]
    },
    {
     "name": "stdout",
     "output_type": "stream",
     "text": [
      "[2025-03-06 03:21:46] Validation at Epoch 38 with validation loss 1.3388245701789856  AUROC 0.8222796352583586 AUPRC 0.7867950227444851\n"
     ]
    },
    {
     "name": "stderr",
     "output_type": "stream",
     "text": [
      "100%|██████████| 162/162 [00:18<00:00,  8.78it/s]"
     ]
    },
    {
     "name": "stdout",
     "output_type": "stream",
     "text": [
      "[2025-03-06 03:22:05] Training at Epoch 39 with training loss 0.4950939181410236\n"
     ]
    },
    {
     "name": "stderr",
     "output_type": "stream",
     "text": [
      "\n"
     ]
    },
    {
     "name": "stdout",
     "output_type": "stream",
     "text": [
      "[2025-03-06 03:22:08] Validation at Epoch 39 with validation loss 1.0396922917469689  AUROC 0.8607598784194529 AUPRC 0.8238669983829796\n"
     ]
    },
    {
     "name": "stderr",
     "output_type": "stream",
     "text": [
      "100%|██████████| 162/162 [00:18<00:00,  8.85it/s]"
     ]
    },
    {
     "name": "stdout",
     "output_type": "stream",
     "text": [
      "[2025-03-06 03:22:26] Training at Epoch 40 with training loss 0.5013663938016067\n"
     ]
    },
    {
     "name": "stderr",
     "output_type": "stream",
     "text": [
      "\n"
     ]
    },
    {
     "name": "stdout",
     "output_type": "stream",
     "text": [
      "[2025-03-06 03:22:29] Validation at Epoch 40 with validation loss 2.014466459336488  AUROC 0.783662613981763 AUPRC 0.7714987004397482\n"
     ]
    },
    {
     "name": "stderr",
     "output_type": "stream",
     "text": [
      "100%|██████████| 162/162 [00:18<00:00,  8.94it/s]\n"
     ]
    },
    {
     "name": "stdout",
     "output_type": "stream",
     "text": [
      "[2025-03-06 03:22:47] Training at Epoch 41 with training loss 0.4960536511591923\n",
      "[2025-03-06 03:22:50] Validation at Epoch 41 with validation loss 0.8301588964203129  AUROC 0.8624924012158055 AUPRC 0.8341566160143696\n"
     ]
    },
    {
     "name": "stderr",
     "output_type": "stream",
     "text": [
      "100%|██████████| 162/162 [00:18<00:00,  8.74it/s]"
     ]
    },
    {
     "name": "stdout",
     "output_type": "stream",
     "text": [
      "[2025-03-06 03:23:08] Training at Epoch 42 with training loss 0.4887124059008963\n"
     ]
    },
    {
     "name": "stderr",
     "output_type": "stream",
     "text": [
      "\n"
     ]
    },
    {
     "name": "stdout",
     "output_type": "stream",
     "text": [
      "[2025-03-06 03:23:11] Validation at Epoch 42 with validation loss 0.8710193012071692  AUROC 0.8393768996960487 AUPRC 0.7966998960805276\n"
     ]
    },
    {
     "name": "stderr",
     "output_type": "stream",
     "text": [
      "100%|██████████| 162/162 [00:17<00:00,  9.34it/s]"
     ]
    },
    {
     "name": "stdout",
     "output_type": "stream",
     "text": [
      "[2025-03-06 03:23:29] Training at Epoch 43 with training loss 0.49538637614912456\n"
     ]
    },
    {
     "name": "stderr",
     "output_type": "stream",
     "text": [
      "\n"
     ]
    },
    {
     "name": "stdout",
     "output_type": "stream",
     "text": [
      "[2025-03-06 03:23:32] Validation at Epoch 43 with validation loss 1.335392996020939  AUROC 0.8487993920972644 AUPRC 0.797062576903837\n"
     ]
    },
    {
     "name": "stderr",
     "output_type": "stream",
     "text": [
      "100%|██████████| 162/162 [00:18<00:00,  8.83it/s]\n"
     ]
    },
    {
     "name": "stdout",
     "output_type": "stream",
     "text": [
      "[2025-03-06 03:23:50] Training at Epoch 44 with training loss 0.49261756278114555\n",
      "[2025-03-06 03:23:53] Validation at Epoch 44 with validation loss 1.3395431197207908  AUROC 0.8588753799392097 AUPRC 0.8271506148099546\n"
     ]
    },
    {
     "name": "stderr",
     "output_type": "stream",
     "text": [
      "100%|██████████| 162/162 [00:18<00:00,  8.54it/s]"
     ]
    },
    {
     "name": "stdout",
     "output_type": "stream",
     "text": [
      "[2025-03-06 03:24:12] Training at Epoch 45 with training loss 0.4745395901946374\n"
     ]
    },
    {
     "name": "stderr",
     "output_type": "stream",
     "text": [
      "\n"
     ]
    },
    {
     "name": "stdout",
     "output_type": "stream",
     "text": [
      "[2025-03-06 03:24:14] Validation at Epoch 45 with validation loss 1.124340604180875  AUROC 0.8580851063829786 AUPRC 0.8355292917238502\n"
     ]
    },
    {
     "name": "stderr",
     "output_type": "stream",
     "text": [
      "100%|██████████| 162/162 [00:18<00:00,  8.73it/s]"
     ]
    },
    {
     "name": "stdout",
     "output_type": "stream",
     "text": [
      "[2025-03-06 03:24:33] Training at Epoch 46 with training loss 0.4781820166994024\n"
     ]
    },
    {
     "name": "stderr",
     "output_type": "stream",
     "text": [
      "\n"
     ]
    },
    {
     "name": "stdout",
     "output_type": "stream",
     "text": [
      "[2025-03-06 03:24:36] Validation at Epoch 46 with validation loss 1.080432974126028  AUROC 0.859756838905775 AUPRC 0.8275712729925429\n"
     ]
    },
    {
     "name": "stderr",
     "output_type": "stream",
     "text": [
      "100%|██████████| 162/162 [00:18<00:00,  8.95it/s]"
     ]
    },
    {
     "name": "stdout",
     "output_type": "stream",
     "text": [
      "[2025-03-06 03:24:54] Training at Epoch 47 with training loss 0.48127281941749434\n"
     ]
    },
    {
     "name": "stderr",
     "output_type": "stream",
     "text": [
      "\n"
     ]
    },
    {
     "name": "stdout",
     "output_type": "stream",
     "text": [
      "[2025-03-06 03:24:57] Validation at Epoch 47 with validation loss 0.8335359083569568  AUROC 0.8397720364741641 AUPRC 0.8012361204806524\n"
     ]
    },
    {
     "name": "stderr",
     "output_type": "stream",
     "text": [
      "100%|██████████| 162/162 [00:17<00:00,  9.09it/s]"
     ]
    },
    {
     "name": "stdout",
     "output_type": "stream",
     "text": [
      "[2025-03-06 03:25:14] Training at Epoch 48 with training loss 0.48026511091508983\n"
     ]
    },
    {
     "name": "stderr",
     "output_type": "stream",
     "text": [
      "\n"
     ]
    },
    {
     "name": "stdout",
     "output_type": "stream",
     "text": [
      "[2025-03-06 03:25:17] Validation at Epoch 48 with validation loss 1.7935482956792996  AUROC 0.8569452887537994 AUPRC 0.8636134184358614\n"
     ]
    },
    {
     "name": "stderr",
     "output_type": "stream",
     "text": [
      "100%|██████████| 162/162 [00:18<00:00,  8.70it/s]"
     ]
    },
    {
     "name": "stdout",
     "output_type": "stream",
     "text": [
      "[2025-03-06 03:25:36] Training at Epoch 49 with training loss 0.4707518716653188\n"
     ]
    },
    {
     "name": "stderr",
     "output_type": "stream",
     "text": [
      "\n"
     ]
    },
    {
     "name": "stdout",
     "output_type": "stream",
     "text": [
      "[2025-03-06 03:25:39] Validation at Epoch 49 with validation loss 1.9631724603798077  AUROC 0.8360334346504559 AUPRC 0.783988263382182\n"
     ]
    },
    {
     "name": "stderr",
     "output_type": "stream",
     "text": [
      "100%|██████████| 162/162 [00:18<00:00,  8.77it/s]\n"
     ]
    },
    {
     "name": "stdout",
     "output_type": "stream",
     "text": [
      "[2025-03-06 03:25:57] Training at Epoch 50 with training loss 0.48155091022267754\n",
      "[2025-03-06 03:26:00] Validation at Epoch 50 with validation loss 1.2134113570918208  AUROC 0.8444680851063829 AUPRC 0.8224277658060866\n"
     ]
    },
    {
     "name": "stderr",
     "output_type": "stream",
     "text": [
      "100%|██████████| 162/162 [00:18<00:00,  8.90it/s]"
     ]
    },
    {
     "name": "stdout",
     "output_type": "stream",
     "text": [
      "[2025-03-06 03:26:18] Training at Epoch 51 with training loss 0.48486626276999345\n"
     ]
    },
    {
     "name": "stderr",
     "output_type": "stream",
     "text": [
      "\n"
     ]
    },
    {
     "name": "stdout",
     "output_type": "stream",
     "text": [
      "[2025-03-06 03:26:21] Validation at Epoch 51 with validation loss 1.3202324924261675  AUROC 0.8434498480243161 AUPRC 0.8312696605247233\n"
     ]
    },
    {
     "name": "stderr",
     "output_type": "stream",
     "text": [
      "100%|██████████| 162/162 [00:17<00:00,  9.07it/s]"
     ]
    },
    {
     "name": "stdout",
     "output_type": "stream",
     "text": [
      "[2025-03-06 03:26:39] Training at Epoch 52 with training loss 0.48038505220118866\n"
     ]
    },
    {
     "name": "stderr",
     "output_type": "stream",
     "text": [
      "\n"
     ]
    },
    {
     "name": "stdout",
     "output_type": "stream",
     "text": [
      "[2025-03-06 03:26:42] Validation at Epoch 52 with validation loss 1.5007338316544243  AUROC 0.827933130699088 AUPRC 0.8172645064177917\n"
     ]
    },
    {
     "name": "stderr",
     "output_type": "stream",
     "text": [
      "100%|██████████| 162/162 [00:18<00:00,  8.56it/s]"
     ]
    },
    {
     "name": "stdout",
     "output_type": "stream",
     "text": [
      "[2025-03-06 03:27:01] Training at Epoch 53 with training loss 0.4754051599237654\n"
     ]
    },
    {
     "name": "stderr",
     "output_type": "stream",
     "text": [
      "\n"
     ]
    },
    {
     "name": "stdout",
     "output_type": "stream",
     "text": [
      "[2025-03-06 03:27:03] Validation at Epoch 53 with validation loss 1.3292756391608196  AUROC 0.8516717325227963 AUPRC 0.8185286227439539\n"
     ]
    },
    {
     "name": "stderr",
     "output_type": "stream",
     "text": [
      "100%|██████████| 162/162 [00:18<00:00,  8.87it/s]"
     ]
    },
    {
     "name": "stdout",
     "output_type": "stream",
     "text": [
      "[2025-03-06 03:27:22] Training at Epoch 54 with training loss 0.47848986907873625\n"
     ]
    },
    {
     "name": "stderr",
     "output_type": "stream",
     "text": [
      "\n"
     ]
    },
    {
     "name": "stdout",
     "output_type": "stream",
     "text": [
      "[2025-03-06 03:27:24] Validation at Epoch 54 with validation loss 1.5369999920544417  AUROC 0.8465045592705166 AUPRC 0.7908732779984435\n"
     ]
    },
    {
     "name": "stderr",
     "output_type": "stream",
     "text": [
      "100%|██████████| 162/162 [00:18<00:00,  8.75it/s]"
     ]
    },
    {
     "name": "stdout",
     "output_type": "stream",
     "text": [
      "[2025-03-06 03:27:43] Training at Epoch 55 with training loss 0.4692241343451135\n"
     ]
    },
    {
     "name": "stderr",
     "output_type": "stream",
     "text": [
      "\n"
     ]
    },
    {
     "name": "stdout",
     "output_type": "stream",
     "text": [
      "[2025-03-06 03:27:46] Validation at Epoch 55 with validation loss 1.4079305503679358  AUROC 0.8619452887537994 AUPRC 0.8330024467453789\n"
     ]
    },
    {
     "name": "stderr",
     "output_type": "stream",
     "text": [
      "100%|██████████| 162/162 [00:18<00:00,  8.80it/s]"
     ]
    },
    {
     "name": "stdout",
     "output_type": "stream",
     "text": [
      "[2025-03-06 03:28:04] Training at Epoch 56 with training loss 0.46435667684784643\n"
     ]
    },
    {
     "name": "stderr",
     "output_type": "stream",
     "text": [
      "\n"
     ]
    },
    {
     "name": "stdout",
     "output_type": "stream",
     "text": [
      "[2025-03-06 03:28:07] Validation at Epoch 56 with validation loss 1.5964712798595428  AUROC 0.8324164133738601 AUPRC 0.796550190287213\n"
     ]
    },
    {
     "name": "stderr",
     "output_type": "stream",
     "text": [
      "100%|██████████| 162/162 [00:19<00:00,  8.39it/s]"
     ]
    },
    {
     "name": "stdout",
     "output_type": "stream",
     "text": [
      "[2025-03-06 03:28:26] Training at Epoch 57 with training loss 0.4695426509888084\n"
     ]
    },
    {
     "name": "stderr",
     "output_type": "stream",
     "text": [
      "\n"
     ]
    },
    {
     "name": "stdout",
     "output_type": "stream",
     "text": [
      "[2025-03-06 03:28:29] Validation at Epoch 57 with validation loss 1.3764522976201514  AUROC 0.8200911854103344 AUPRC 0.7627220068148566\n"
     ]
    },
    {
     "name": "stderr",
     "output_type": "stream",
     "text": [
      "100%|██████████| 162/162 [00:18<00:00,  8.73it/s]"
     ]
    },
    {
     "name": "stdout",
     "output_type": "stream",
     "text": [
      "[2025-03-06 03:28:48] Training at Epoch 58 with training loss 0.470925687915749\n"
     ]
    },
    {
     "name": "stderr",
     "output_type": "stream",
     "text": [
      "\n"
     ]
    },
    {
     "name": "stdout",
     "output_type": "stream",
     "text": [
      "[2025-03-06 03:28:51] Validation at Epoch 58 with validation loss 1.2482860554819522  AUROC 0.8499696048632218 AUPRC 0.8432637322555232\n"
     ]
    },
    {
     "name": "stderr",
     "output_type": "stream",
     "text": [
      "100%|██████████| 162/162 [00:17<00:00,  9.31it/s]"
     ]
    },
    {
     "name": "stdout",
     "output_type": "stream",
     "text": [
      "[2025-03-06 03:29:08] Training at Epoch 59 with training loss 0.4512870884787889\n"
     ]
    },
    {
     "name": "stderr",
     "output_type": "stream",
     "text": [
      "\n"
     ]
    },
    {
     "name": "stdout",
     "output_type": "stream",
     "text": [
      "[2025-03-06 03:29:11] Validation at Epoch 59 with validation loss 0.8433041572570801  AUROC 0.842370820668693 AUPRC 0.8270994780898058\n"
     ]
    },
    {
     "name": "stderr",
     "output_type": "stream",
     "text": [
      "100%|██████████| 162/162 [00:17<00:00,  9.50it/s]"
     ]
    },
    {
     "name": "stdout",
     "output_type": "stream",
     "text": [
      "[2025-03-06 03:29:28] Training at Epoch 60 with training loss 0.4603087966456825\n"
     ]
    },
    {
     "name": "stderr",
     "output_type": "stream",
     "text": [
      "\n"
     ]
    },
    {
     "name": "stdout",
     "output_type": "stream",
     "text": [
      "[2025-03-06 03:29:31] Validation at Epoch 60 with validation loss 1.1257893196914508  AUROC 0.8670516717325228 AUPRC 0.8703843544064698\n"
     ]
    },
    {
     "name": "stderr",
     "output_type": "stream",
     "text": [
      "100%|██████████| 162/162 [00:20<00:00,  8.00it/s]"
     ]
    },
    {
     "name": "stdout",
     "output_type": "stream",
     "text": [
      "[2025-03-06 03:29:51] Training at Epoch 61 with training loss 0.4588616312837895\n"
     ]
    },
    {
     "name": "stderr",
     "output_type": "stream",
     "text": [
      "\n"
     ]
    },
    {
     "name": "stdout",
     "output_type": "stream",
     "text": [
      "[2025-03-06 03:29:54] Validation at Epoch 61 with validation loss 1.305595461441123  AUROC 0.8615501519756839 AUPRC 0.8198754658369847\n"
     ]
    },
    {
     "name": "stderr",
     "output_type": "stream",
     "text": [
      "100%|██████████| 162/162 [00:18<00:00,  9.00it/s]"
     ]
    },
    {
     "name": "stdout",
     "output_type": "stream",
     "text": [
      "[2025-03-06 03:30:12] Training at Epoch 62 with training loss 0.4511400779456268\n"
     ]
    },
    {
     "name": "stderr",
     "output_type": "stream",
     "text": [
      "\n"
     ]
    },
    {
     "name": "stdout",
     "output_type": "stream",
     "text": [
      "[2025-03-06 03:30:15] Validation at Epoch 62 with validation loss 1.297515692918197  AUROC 0.8841945288753799 AUPRC 0.883258998272197\n"
     ]
    },
    {
     "name": "stderr",
     "output_type": "stream",
     "text": [
      "100%|██████████| 162/162 [00:18<00:00,  8.76it/s]"
     ]
    },
    {
     "name": "stdout",
     "output_type": "stream",
     "text": [
      "[2025-03-06 03:30:33] Training at Epoch 63 with training loss 0.44671580922088505\n"
     ]
    },
    {
     "name": "stderr",
     "output_type": "stream",
     "text": [
      "\n"
     ]
    },
    {
     "name": "stdout",
     "output_type": "stream",
     "text": [
      "[2025-03-06 03:30:36] Validation at Epoch 63 with validation loss 0.9128780740758647  AUROC 0.8518541033434649 AUPRC 0.8289530309928306\n"
     ]
    },
    {
     "name": "stderr",
     "output_type": "stream",
     "text": [
      "100%|██████████| 162/162 [00:18<00:00,  8.69it/s]"
     ]
    },
    {
     "name": "stdout",
     "output_type": "stream",
     "text": [
      "[2025-03-06 03:30:55] Training at Epoch 64 with training loss 0.45991307175085866\n"
     ]
    },
    {
     "name": "stderr",
     "output_type": "stream",
     "text": [
      "\n"
     ]
    },
    {
     "name": "stdout",
     "output_type": "stream",
     "text": [
      "[2025-03-06 03:30:58] Validation at Epoch 64 with validation loss 0.9265543488056763  AUROC 0.8537537993920973 AUPRC 0.8447537921821425\n"
     ]
    },
    {
     "name": "stderr",
     "output_type": "stream",
     "text": [
      "100%|██████████| 162/162 [00:18<00:00,  8.65it/s]"
     ]
    },
    {
     "name": "stdout",
     "output_type": "stream",
     "text": [
      "[2025-03-06 03:31:16] Training at Epoch 65 with training loss 0.4415802499394358\n"
     ]
    },
    {
     "name": "stderr",
     "output_type": "stream",
     "text": [
      "\n"
     ]
    },
    {
     "name": "stdout",
     "output_type": "stream",
     "text": [
      "[2025-03-06 03:31:19] Validation at Epoch 65 with validation loss 1.5442761765873951  AUROC 0.8499544072948328 AUPRC 0.7996540625856849\n"
     ]
    },
    {
     "name": "stderr",
     "output_type": "stream",
     "text": [
      "100%|██████████| 162/162 [00:18<00:00,  8.85it/s]"
     ]
    },
    {
     "name": "stdout",
     "output_type": "stream",
     "text": [
      "[2025-03-06 03:31:37] Training at Epoch 66 with training loss 0.447435560417764\n"
     ]
    },
    {
     "name": "stderr",
     "output_type": "stream",
     "text": [
      "\n"
     ]
    },
    {
     "name": "stdout",
     "output_type": "stream",
     "text": [
      "[2025-03-06 03:31:40] Validation at Epoch 66 with validation loss 1.3860457273929014  AUROC 0.859240121580547 AUPRC 0.8409684370481432\n"
     ]
    },
    {
     "name": "stderr",
     "output_type": "stream",
     "text": [
      "100%|██████████| 162/162 [00:18<00:00,  8.78it/s]"
     ]
    },
    {
     "name": "stdout",
     "output_type": "stream",
     "text": [
      "[2025-03-06 03:31:59] Training at Epoch 67 with training loss 0.44244184372601686\n"
     ]
    },
    {
     "name": "stderr",
     "output_type": "stream",
     "text": [
      "\n"
     ]
    },
    {
     "name": "stdout",
     "output_type": "stream",
     "text": [
      "[2025-03-06 03:32:01] Validation at Epoch 67 with validation loss 1.0473029257162758  AUROC 0.8656534954407292 AUPRC 0.8602463241750419\n"
     ]
    },
    {
     "name": "stderr",
     "output_type": "stream",
     "text": [
      "100%|██████████| 162/162 [00:18<00:00,  8.64it/s]"
     ]
    },
    {
     "name": "stdout",
     "output_type": "stream",
     "text": [
      "[2025-03-06 03:32:20] Training at Epoch 68 with training loss 0.4340066310064292\n"
     ]
    },
    {
     "name": "stderr",
     "output_type": "stream",
     "text": [
      "\n"
     ]
    },
    {
     "name": "stdout",
     "output_type": "stream",
     "text": [
      "[2025-03-06 03:32:23] Validation at Epoch 68 with validation loss 0.7766494997169661  AUROC 0.8704711246200608 AUPRC 0.8425287482489195\n"
     ]
    },
    {
     "name": "stderr",
     "output_type": "stream",
     "text": [
      "100%|██████████| 162/162 [00:18<00:00,  8.68it/s]"
     ]
    },
    {
     "name": "stdout",
     "output_type": "stream",
     "text": [
      "[2025-03-06 03:32:42] Training at Epoch 69 with training loss 0.41744044165552396\n"
     ]
    },
    {
     "name": "stderr",
     "output_type": "stream",
     "text": [
      "\n"
     ]
    },
    {
     "name": "stdout",
     "output_type": "stream",
     "text": [
      "[2025-03-06 03:32:44] Validation at Epoch 69 with validation loss 1.253385215997696  AUROC 0.8740729483282675 AUPRC 0.8375962861907824\n"
     ]
    },
    {
     "name": "stderr",
     "output_type": "stream",
     "text": [
      "100%|██████████| 162/162 [00:18<00:00,  8.81it/s]"
     ]
    },
    {
     "name": "stdout",
     "output_type": "stream",
     "text": [
      "[2025-03-06 03:33:03] Training at Epoch 70 with training loss 0.4186840461176119\n"
     ]
    },
    {
     "name": "stderr",
     "output_type": "stream",
     "text": [
      "\n"
     ]
    },
    {
     "name": "stdout",
     "output_type": "stream",
     "text": [
      "[2025-03-06 03:33:06] Validation at Epoch 70 with validation loss 1.2530452129633531  AUROC 0.8731003039513677 AUPRC 0.8767361867509333\n",
      "[2025-03-06 03:33:10] Test at Best Model of Epoch 62 with test loss 1.1821179373756698  AUROC 0.836491772835898 AUPRC 0.833638208952054 Sensitivity 0.6629526462395543 Specificity 0.8770491803278688 Accuracy 0.7710344827586207 Thred_optim 0.4546685814857483\n",
      "Total running time: 1487.85s\n"
     ]
    }
   ],
   "source": [
    "opt = torch.optim.Adam(model.parameters(), lr=cfg.SOLVER.LR)\n",
    "if torch.cuda.is_available():\n",
    "  torch.backends.cudnn.benchmark = True\n",
    "\n",
    "trainer = Trainer(model, opt, device, training_generator, val_generator, test_generator, **cfg)\n",
    "result = trainer.train()\n",
    "\n",
    "e = time()  # End time\n",
    "\n",
    "print(f\"Total running time: {round(e - s, 2)}s\")  # Print the total running time"
   ]
  },
  {
   "cell_type": "markdown",
   "metadata": {},
   "source": [
    "Experimental results​ indicate that the model requires approximately ​1500 seconds​ (25 minutes) to run on an NVIDIA GeForce RTX 2080 Ti GPU, achieving an ​AUROC of 0.84​ on the test dataset."
   ]
  }
 ],
 "metadata": {
  "kernelspec": {
   "display_name": "scope",
   "language": "python",
   "name": "python3"
  },
  "language_info": {
   "codemirror_mode": {
    "name": "ipython",
    "version": 3
   },
   "file_extension": ".py",
   "mimetype": "text/x-python",
   "name": "python",
   "nbconvert_exporter": "python",
   "pygments_lexer": "ipython3",
   "version": "3.9.19"
  }
 },
 "nbformat": 4,
 "nbformat_minor": 2
}
